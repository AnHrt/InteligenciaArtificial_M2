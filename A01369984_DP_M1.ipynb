{
  "cells": [
    {
      "cell_type": "code",
      "execution_count": 1,
      "metadata": {
        "colab": {
          "base_uri": "https://localhost:8080/"
        },
        "id": "onOUBKAXkbOU",
        "outputId": "d1ea0ce4-513e-45e8-e431-5dd02cf068f3"
      },
      "outputs": [
        {
          "output_type": "stream",
          "name": "stdout",
          "text": [
            "Drive already mounted at /content/gdrive; to attempt to forcibly remount, call drive.mount(\"/content/gdrive\", force_remount=True).\n",
            "/content\n"
          ]
        }
      ],
      "source": [
        "from google.colab import drive\n",
        "drive.mount(\"/content/gdrive\")  \n",
        "!pwd  # show current path "
      ]
    },
    {
      "cell_type": "code",
      "execution_count": 2,
      "metadata": {
        "colab": {
          "base_uri": "https://localhost:8080/"
        },
        "id": "CiSPjN8mkbOY",
        "outputId": "297b8963-ca2d-4fe1-c074-e31e2dcb1613"
      },
      "outputs": [
        {
          "output_type": "stream",
          "name": "stdout",
          "text": [
            "/content/gdrive/MyDrive/a01369984_IA/DP\n",
            "DogBreeds.h5  images  images_test  img\timg_test  Mexican_hairless\n"
          ]
        }
      ],
      "source": [
        "%cd \"/content/gdrive/MyDrive/a01369984_IA/DP/\"\n",
        "!ls  # show current directory"
      ]
    },
    {
      "cell_type": "code",
      "execution_count": 3,
      "metadata": {
        "id": "drPnwdCFkbOa"
      },
      "outputs": [],
      "source": [
        "import os\n",
        "import numpy as np\n",
        "import tensorflow as tf\n",
        "import matplotlib.pyplot as plt\n",
        "\n",
        "from tensorflow.keras import optimizers, layers\n",
        "from keras.models import Sequential\n",
        "from keras.layers import Dense, Flatten, Conv2D, MaxPooling2D\n",
        "from tensorflow.keras.preprocessing.image import ImageDataGenerator"
      ]
    },
    {
      "cell_type": "code",
      "execution_count": 4,
      "metadata": {
        "colab": {
          "base_uri": "https://localhost:8080/"
        },
        "id": "4ORF063AuO49",
        "outputId": "878422c8-4f7f-4068-dcd1-a16fcaffae4a"
      },
      "outputs": [
        {
          "output_type": "stream",
          "name": "stdout",
          "text": [
            "['images', 'images_test', 'img', 'img_test', 'Mexican_hairless', 'DogBreeds.h5']\n"
          ]
        }
      ],
      "source": [
        "print(os.listdir(\"/content/gdrive/My Drive/a01369984_IA/DP\"))"
      ]
    },
    {
      "cell_type": "markdown",
      "metadata": {
        "id": "RxLROEvHp91A"
      },
      "source": [
        "Dataset\n",
        "\n",
        "https://www.kaggle.com/datasets/jessicali9530/stanford-dogs-dataset?datasetId=119698&sortBy=voteCount"
      ]
    },
    {
      "cell_type": "code",
      "execution_count": 5,
      "metadata": {
        "id": "p0HzG-g0skGO"
      },
      "outputs": [],
      "source": [
        "img = (\"/content/gdrive/My Drive/a01369984_IA/DP/img\")\n",
        "test = (\"/content/gdrive/My Drive/a01369984_IA/DP/img_test\")"
      ]
    },
    {
      "cell_type": "code",
      "execution_count": 6,
      "metadata": {
        "colab": {
          "base_uri": "https://localhost:8080/"
        },
        "id": "Q0o5r14Qmcb8",
        "outputId": "9d13c0ef-b74e-4f66-8b9c-15039c74d88d"
      },
      "outputs": [
        {
          "output_type": "stream",
          "name": "stdout",
          "text": [
            "Found 410 images belonging to 3 classes.\n",
            "Found 101 images belonging to 3 classes.\n"
          ]
        }
      ],
      "source": [
        "datagen = ImageDataGenerator(\n",
        "\t\t\t\t\t\t\trescale = 1./255,\n",
        "       \t\t\t\tvalidation_split=0.20)\n",
        "\n",
        "train = datagen.flow_from_directory(\n",
        "\t\t\t\t\t\t\timg,\n",
        "\t\t\t\t\t\t\ttarget_size = (224, 224),\n",
        "\t\t\t\t\t\t\tbatch_size = 20,\n",
        "\t\t\t\t\t\t\tclass_mode ='categorical',\n",
        "              subset=\"training\")\n",
        "\n",
        "val = datagen.flow_from_directory(\n",
        "\t\t\t\t\t\t\timg,\n",
        "\t\t\t\t\t\t\ttarget_size = (224,224),\n",
        "\t\t\t\t\t\t\tbatch_size =20,\n",
        "\t\t\t\t\t\t\tclass_mode= 'categorical',\n",
        "              subset=\"validation\")\n",
        "\n",
        "steps_size_train = train.n//train.batch_size\n",
        "steps_size_val = val.n//val.batch_size"
      ]
    },
    {
      "cell_type": "markdown",
      "metadata": {
        "id": "eLX6czDvp7Kz"
      },
      "source": [
        "Modelo"
      ]
    },
    {
      "cell_type": "code",
      "execution_count": 7,
      "metadata": {
        "id": "gCqhNYddkgah"
      },
      "outputs": [],
      "source": [
        "model = Sequential([\n",
        "        Conv2D(32, (3,3), activation=\"relu\", input_shape=(224,224,3)),\n",
        "        MaxPooling2D(),\n",
        "        Conv2D(64, (3,3), activation=\"relu\", input_shape=(224,224,3)),\n",
        "        MaxPooling2D(),\n",
        "        Flatten(),\n",
        "        Dense(32, activation='relu'),\n",
        "        Dense(3, activation='softmax')\n",
        "    ])"
      ]
    },
    {
      "cell_type": "code",
      "execution_count": 8,
      "metadata": {
        "colab": {
          "base_uri": "https://localhost:8080/"
        },
        "id": "KNX51tSmc6Zq",
        "outputId": "61d5e509-73dc-4bbf-8589-f5ad5c305c1c"
      },
      "outputs": [
        {
          "output_type": "stream",
          "name": "stdout",
          "text": [
            "Model: \"sequential\"\n",
            "_________________________________________________________________\n",
            " Layer (type)                Output Shape              Param #   \n",
            "=================================================================\n",
            " conv2d (Conv2D)             (None, 222, 222, 32)      896       \n",
            "                                                                 \n",
            " max_pooling2d (MaxPooling2D  (None, 111, 111, 32)     0         \n",
            " )                                                               \n",
            "                                                                 \n",
            " conv2d_1 (Conv2D)           (None, 109, 109, 64)      18496     \n",
            "                                                                 \n",
            " max_pooling2d_1 (MaxPooling  (None, 54, 54, 64)       0         \n",
            " 2D)                                                             \n",
            "                                                                 \n",
            " flatten (Flatten)           (None, 186624)            0         \n",
            "                                                                 \n",
            " dense (Dense)               (None, 32)                5972000   \n",
            "                                                                 \n",
            " dense_1 (Dense)             (None, 3)                 99        \n",
            "                                                                 \n",
            "=================================================================\n",
            "Total params: 5,991,491\n",
            "Trainable params: 5,991,491\n",
            "Non-trainable params: 0\n",
            "_________________________________________________________________\n"
          ]
        }
      ],
      "source": [
        "model.summary()"
      ]
    },
    {
      "cell_type": "code",
      "execution_count": 9,
      "metadata": {
        "id": "pMcRL_gFwg5L"
      },
      "outputs": [],
      "source": [
        "optimizer = optimizers.Adam(learning_rate=1e-2)\n",
        "model.compile(optimizer=optimizer, loss='categorical_crossentropy',\n",
        "                           metrics=[\"accuracy\"])"
      ]
    },
    {
      "cell_type": "markdown",
      "metadata": {
        "id": "SUkunqVRqAbg"
      },
      "source": [
        "Entrenamiento"
      ]
    },
    {
      "cell_type": "code",
      "execution_count": 10,
      "metadata": {
        "colab": {
          "base_uri": "https://localhost:8080/"
        },
        "id": "N9yxPcUdsFaq",
        "outputId": "7c427d77-7989-4e5c-af65-5cedef86ad06"
      },
      "outputs": [
        {
          "output_type": "stream",
          "name": "stdout",
          "text": [
            "Epoch 1/10\n",
            "20/20 [==============================] - 14s 435ms/step - loss: 15.1792 - accuracy: 0.3333 - val_loss: 1.0976 - val_accuracy: 0.3500\n",
            "Epoch 2/10\n",
            "20/20 [==============================] - 5s 248ms/step - loss: 1.0971 - accuracy: 0.3667 - val_loss: 1.0969 - val_accuracy: 0.3600\n",
            "Epoch 3/10\n",
            "20/20 [==============================] - 4s 197ms/step - loss: 1.0979 - accuracy: 0.3538 - val_loss: 1.0976 - val_accuracy: 0.3500\n",
            "Epoch 4/10\n",
            "20/20 [==============================] - 4s 202ms/step - loss: 1.0976 - accuracy: 0.3590 - val_loss: 1.0977 - val_accuracy: 0.3500\n",
            "Epoch 5/10\n",
            "20/20 [==============================] - 4s 197ms/step - loss: 1.0978 - accuracy: 0.3564 - val_loss: 1.0963 - val_accuracy: 0.3600\n",
            "Epoch 6/10\n",
            "20/20 [==============================] - 4s 201ms/step - loss: 1.0977 - accuracy: 0.3564 - val_loss: 1.0960 - val_accuracy: 0.3600\n",
            "Epoch 7/10\n",
            "20/20 [==============================] - 4s 200ms/step - loss: 1.0979 - accuracy: 0.3513 - val_loss: 1.0975 - val_accuracy: 0.3500\n",
            "Epoch 8/10\n",
            "20/20 [==============================] - 4s 203ms/step - loss: 1.0972 - accuracy: 0.3615 - val_loss: 1.0978 - val_accuracy: 0.3500\n",
            "Epoch 9/10\n",
            "20/20 [==============================] - 4s 203ms/step - loss: 1.0979 - accuracy: 0.3513 - val_loss: 1.0974 - val_accuracy: 0.3500\n",
            "Epoch 10/10\n",
            "20/20 [==============================] - 4s 200ms/step - loss: 1.0985 - accuracy: 0.3487 - val_loss: 1.0971 - val_accuracy: 0.3600\n"
          ]
        }
      ],
      "source": [
        "hist = model.fit(train, \n",
        "\t\t\t\tsteps_per_epoch = steps_size_train,  \n",
        "\t\t\t\tepochs = 10, \n",
        "\t\t\t\tvalidation_data = val, \n",
        "\t\t\t\tvalidation_steps = steps_size_val)"
      ]
    },
    {
      "cell_type": "code",
      "execution_count": 11,
      "metadata": {
        "colab": {
          "base_uri": "https://localhost:8080/",
          "height": 545
        },
        "id": "m_v-HYJ1vDfQ",
        "outputId": "5fb7e8c7-f012-4509-f24e-1b59e8dbeec1"
      },
      "outputs": [
        {
          "output_type": "display_data",
          "data": {
            "text/plain": [
              "<Figure size 432x288 with 1 Axes>"
            ],
            "image/png": "[encoded data removed]"
          },
          "metadata": {
            "needs_background": "light"
          }
        },
        {
          "output_type": "display_data",
          "data": {
            "text/plain": [
              "<Figure size 432x288 with 1 Axes>"
            ],
            "image/png": "[encoded data removed]"
          },
          "metadata": {
            "needs_background": "light"
          }
        }
      ],
      "source": [
        "acc = hist.history['accuracy']\n",
        "val_acc = hist.history['val_accuracy']\n",
        "loss = hist.history['loss']\n",
        "val_loss = hist.history['val_loss']\n",
        "\n",
        "epochs = range(1, len(acc)+1)\n",
        "\n",
        "plt.plot(epochs,acc,'bo',label='train accuracy')\n",
        "plt.plot(epochs,val_acc, 'b', label='validation accuracy')\n",
        "plt.title('train acc vs val acc')\n",
        "plt.legend()\n",
        "\n",
        "plt.figure()\n",
        "\n",
        "plt.plot(epochs,loss, 'bo', label ='training loss')\n",
        "plt.plot(epochs,val_loss, 'b', label = 'validation loss')\n",
        "plt.title('train loss vs val loss')\n",
        "plt.legend()\n",
        "\n",
        "plt.show()"
      ]
    },
    {
      "cell_type": "code",
      "execution_count": 12,
      "metadata": {
        "colab": {
          "base_uri": "https://localhost:8080/"
        },
        "id": "CkkSgCdS9mvl",
        "outputId": "f6000e4d-4599-497a-e7f0-744cf19d37f4"
      },
      "outputs": [
        {
          "output_type": "stream",
          "name": "stdout",
          "text": [
            "Found 50 images belonging to 3 classes.\n"
          ]
        }
      ],
      "source": [
        "test_gen = ImageDataGenerator(1./255)\n",
        "\n",
        "testset = test_gen.flow_from_directory(\n",
        "\t\t\t\t\ttest,\n",
        "\t\t\t\t\ttarget_size = (224, 224),\n",
        "\t\t\t\t\tbatch_size = 20,\n",
        "          class_mode ='categorical')\n",
        "\n",
        "steps_size_test = testset.n//testset.batch_size"
      ]
    },
    {
      "cell_type": "code",
      "execution_count": 13,
      "metadata": {
        "id": "NgQK68CH-YK5",
        "colab": {
          "base_uri": "https://localhost:8080/"
        },
        "outputId": "22a174d2-5895-4a19-bf85-33a9ec0b2536"
      },
      "outputs": [
        {
          "output_type": "stream",
          "name": "stderr",
          "text": [
            "/usr/local/lib/python3.7/dist-packages/keras/preprocessing/image.py:1663: UserWarning: This ImageDataGenerator specifies `featurewise_center`, but it hasn't been fit on any training data. Fit it first by calling `.fit(numpy_data)`.\n",
            "  warnings.warn('This ImageDataGenerator specifies '\n"
          ]
        },
        {
          "output_type": "stream",
          "name": "stdout",
          "text": [
            "2/2 [==============================] - 19s 18s/step - loss: 12.1514 - accuracy: 0.2750\n",
            "\n",
            "test acc :\n",
            " 0.2750000059604645\n"
          ]
        }
      ],
      "source": [
        "test_loss, test_acc = model.evaluate(testset, steps = steps_size_test)\n",
        "print('\\ntest acc :\\n', test_acc)"
      ]
    },
    {
      "cell_type": "code",
      "source": [
        "#model.save('DogBreeds.h5')"
      ],
      "metadata": {
        "id": "LjalKOVaJ5IN"
      },
      "execution_count": 15,
      "outputs": []
    }
  ],
  "metadata": {
    "accelerator": "GPU",
    "colab": {
      "provenance": []
    },
    "gpuClass": "standard",
    "kernelspec": {
      "display_name": "Python 3.10.8 64-bit (microsoft store)",
      "language": "python",
      "name": "python3"
    },
    "language_info": {
      "codemirror_mode": {
        "name": "ipython",
        "version": 3
      },
      "file_extension": ".py",
      "mimetype": "text/x-python",
      "name": "python",
      "nbconvert_exporter": "python",
      "pygments_lexer": "ipython3",
      "version": "3.10.8"
    },
    "vscode": {
      "interpreter": {
        "hash": "f58006e3a6b3697db5a2671151387509a500f2e72d8fe07fc4154091e95c0813"
      }
    }
  },
  "nbformat": 4,
  "nbformat_minor": 0
}
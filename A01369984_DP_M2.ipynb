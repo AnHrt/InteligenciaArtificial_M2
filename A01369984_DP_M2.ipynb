{
  "cells": [
    {
      "cell_type": "code",
      "execution_count": 1,
      "metadata": {
        "colab": {
          "base_uri": "https://localhost:8080/"
        },
        "id": "onOUBKAXkbOU",
        "outputId": "3b66c10a-c4e5-44b3-ddfe-c698e82c2a4c"
      },
      "outputs": [
        {
          "output_type": "stream",
          "name": "stdout",
          "text": [
            "Mounted at /content/gdrive\n",
            "/content\n"
          ]
        }
      ],
      "source": [
        "from google.colab import drive\n",
        "drive.mount(\"/content/gdrive\")  \n",
        "!pwd  # show current path "
      ]
    },
    {
      "cell_type": "code",
      "execution_count": 2,
      "metadata": {
        "colab": {
          "base_uri": "https://localhost:8080/"
        },
        "id": "CiSPjN8mkbOY",
        "outputId": "be674105-5e16-4350-ff16-a69506c7ee5b"
      },
      "outputs": [
        {
          "output_type": "stream",
          "name": "stdout",
          "text": [
            "/content/gdrive/MyDrive/a01369984_IA/DP\n",
            "DogBreeds.h5  images  images_test  img\timg_test  Mexican_hairless  VideoDP\n"
          ]
        }
      ],
      "source": [
        "%cd \"/content/gdrive/MyDrive/a01369984_IA/DP/\"\n",
        "!ls  # show current directory"
      ]
    },
    {
      "cell_type": "code",
      "execution_count": 3,
      "metadata": {
        "id": "drPnwdCFkbOa"
      },
      "outputs": [],
      "source": [
        "import os\n",
        "import numpy as np\n",
        "import tensorflow as tf\n",
        "import matplotlib.pyplot as plt\n",
        "\n",
        "from tensorflow.keras import optimizers, layers\n",
        "from keras.models import Sequential\n",
        "from keras.layers import Dense, Flatten, Dropout, GlobalAveragePooling2D\n",
        "from tensorflow.keras.preprocessing.image import ImageDataGenerator"
      ]
    },
    {
      "cell_type": "code",
      "execution_count": 4,
      "metadata": {
        "colab": {
          "base_uri": "https://localhost:8080/"
        },
        "id": "4ORF063AuO49",
        "outputId": "71e05d46-bab0-41c6-d0b2-b8cbcacc20f3"
      },
      "outputs": [
        {
          "output_type": "stream",
          "name": "stdout",
          "text": [
            "['images', 'images_test', 'img', 'Mexican_hairless', 'img_test', 'DogBreeds.h5', 'VideoDP']\n"
          ]
        }
      ],
      "source": [
        "print(os.listdir(\"/content/gdrive/My Drive/a01369984_IA/DP\"))"
      ]
    },
    {
      "cell_type": "markdown",
      "metadata": {
        "id": "RxLROEvHp91A"
      },
      "source": [
        "Dataset\n",
        "\n",
        "https://www.kaggle.com/datasets/jessicali9530/stanford-dogs-dataset?datasetId=119698&sortBy=voteCount"
      ]
    },
    {
      "cell_type": "code",
      "execution_count": 5,
      "metadata": {
        "id": "p0HzG-g0skGO"
      },
      "outputs": [],
      "source": [
        "img = (\"/content/gdrive/My Drive/a01369984_IA/DP/img\")\n",
        "test = (\"/content/gdrive/My Drive/a01369984_IA/DP/img_test\")"
      ]
    },
    {
      "cell_type": "code",
      "execution_count": 6,
      "metadata": {
        "colab": {
          "base_uri": "https://localhost:8080/"
        },
        "id": "Q0o5r14Qmcb8",
        "outputId": "addf29ab-dcb3-4e58-d47d-5ec0935afa47"
      },
      "outputs": [
        {
          "output_type": "stream",
          "name": "stdout",
          "text": [
            "Found 410 images belonging to 3 classes.\n",
            "Found 101 images belonging to 3 classes.\n"
          ]
        }
      ],
      "source": [
        "datagen = ImageDataGenerator(\n",
        "\t\t\t\t\t\t\trescale = 1./255,\n",
        "              vertical_flip=False,\n",
        "\t\t\t\t\t\t\thorizontal_flip = True,\n",
        "\t\t\t\t\t\t\trotation_range = 45,\n",
        "\t\t\t\t\t\t\tshear_range = 0.2,\n",
        "\t\t\t\t\t\t\tzoom_range = 0.2,\n",
        "       \t\t\t\tvalidation_split=0.20)\n",
        "\n",
        "train = datagen.flow_from_directory(\n",
        "\t\t\t\t\t\t\timg,\n",
        "\t\t\t\t\t\t\ttarget_size = (224, 224),\n",
        "\t\t\t\t\t\t\tbatch_size = 20,\n",
        "\t\t\t\t\t\t\tclass_mode ='categorical',\n",
        "              subset=\"training\")\n",
        "\n",
        "val = datagen.flow_from_directory(\n",
        "\t\t\t\t\t\t\timg,\n",
        "\t\t\t\t\t\t\ttarget_size = (224,224),\n",
        "\t\t\t\t\t\t\tbatch_size =20,\n",
        "\t\t\t\t\t\t\tclass_mode= 'categorical',\n",
        "              subset=\"validation\")\n",
        "\n",
        "steps_size_train = train.n//train.batch_size\n",
        "steps_size_val = val.n//val.batch_size"
      ]
    },
    {
      "cell_type": "markdown",
      "metadata": {
        "id": "eLX6czDvp7Kz"
      },
      "source": [
        "Modelo"
      ]
    },
    {
      "cell_type": "code",
      "execution_count": 7,
      "metadata": {
        "id": "gCqhNYddkgah",
        "outputId": "2203e041-e676-4aee-ba19-f8ab73d8873a",
        "colab": {
          "base_uri": "https://localhost:8080/"
        }
      },
      "outputs": [
        {
          "output_type": "stream",
          "name": "stdout",
          "text": [
            "Downloading data from https://storage.googleapis.com/tensorflow/keras-applications/vgg16/vgg16_weights_tf_dim_ordering_tf_kernels_notop.h5\n",
            "58889256/58889256 [==============================] - 0s 0us/step\n"
          ]
        }
      ],
      "source": [
        "from tensorflow.keras.applications import VGG16 \n",
        "\n",
        "conv_base= VGG16(weights='imagenet',\n",
        "\t\t\t\t\t\t\t\tinclude_top = False,\n",
        "\t\t\t\t\t\t\t\tinput_shape = (224,224,3))\n",
        "\t\t\t\t\t\t\t\t\n",
        "model = Sequential()\n",
        "model.add(conv_base)\n",
        "model.add(GlobalAveragePooling2D())\n",
        "model.add(layers.Dense(128,activation='relu'))\n",
        "model.add(layers.Dropout(0.5))\n",
        "model.add(layers.Dense(3,activation='sigmoid'))\n",
        "\n",
        "conv_base.trainable = False"
      ]
    },
    {
      "cell_type": "code",
      "execution_count": 8,
      "metadata": {
        "colab": {
          "base_uri": "https://localhost:8080/"
        },
        "id": "KNX51tSmc6Zq",
        "outputId": "52f41474-b69a-41d0-ccd5-cd466fd24124"
      },
      "outputs": [
        {
          "output_type": "stream",
          "name": "stdout",
          "text": [
            "Model: \"sequential\"\n",
            "_________________________________________________________________\n",
            " Layer (type)                Output Shape              Param #   \n",
            "=================================================================\n",
            " vgg16 (Functional)          (None, 7, 7, 512)         14714688  \n",
            "                                                                 \n",
            " global_average_pooling2d (G  (None, 512)              0         \n",
            " lobalAveragePooling2D)                                          \n",
            "                                                                 \n",
            " dense (Dense)               (None, 128)               65664     \n",
            "                                                                 \n",
            " dropout (Dropout)           (None, 128)               0         \n",
            "                                                                 \n",
            " dense_1 (Dense)             (None, 3)                 387       \n",
            "                                                                 \n",
            "=================================================================\n",
            "Total params: 14,780,739\n",
            "Trainable params: 66,051\n",
            "Non-trainable params: 14,714,688\n",
            "_________________________________________________________________\n"
          ]
        }
      ],
      "source": [
        "model.summary()"
      ]
    },
    {
      "cell_type": "code",
      "execution_count": 9,
      "metadata": {
        "id": "pMcRL_gFwg5L"
      },
      "outputs": [],
      "source": [
        "optimizer = optimizers.Adam(learning_rate=1e-2)\n",
        "model.compile(optimizer=optimizer, loss='categorical_crossentropy',\n",
        "                           metrics=[\"accuracy\"])"
      ]
    },
    {
      "cell_type": "markdown",
      "metadata": {
        "id": "SUkunqVRqAbg"
      },
      "source": [
        "Entrenamiento"
      ]
    },
    {
      "cell_type": "code",
      "execution_count": 10,
      "metadata": {
        "colab": {
          "base_uri": "https://localhost:8080/"
        },
        "id": "N9yxPcUdsFaq",
        "outputId": "e2c26761-9633-4ae4-f363-17ff6dd17063"
      },
      "outputs": [
        {
          "output_type": "stream",
          "name": "stdout",
          "text": [
            "Epoch 1/20\n",
            "20/20 [==============================] - 267s 14s/step - loss: 1.3616 - accuracy: 0.3590 - val_loss: 0.9766 - val_accuracy: 0.3900\n",
            "Epoch 2/20\n",
            "20/20 [==============================] - 269s 14s/step - loss: 0.9965 - accuracy: 0.5000 - val_loss: 0.8804 - val_accuracy: 0.5900\n",
            "Epoch 3/20\n",
            "20/20 [==============================] - 273s 14s/step - loss: 0.8490 - accuracy: 0.5897 - val_loss: 0.7897 - val_accuracy: 0.6600\n",
            "Epoch 4/20\n",
            "20/20 [==============================] - 263s 13s/step - loss: 0.7796 - accuracy: 0.6795 - val_loss: 0.6925 - val_accuracy: 0.7500\n",
            "Epoch 5/20\n",
            "20/20 [==============================] - 261s 13s/step - loss: 0.7221 - accuracy: 0.7103 - val_loss: 0.6135 - val_accuracy: 0.7600\n",
            "Epoch 6/20\n",
            "20/20 [==============================] - 259s 13s/step - loss: 0.6695 - accuracy: 0.7359 - val_loss: 0.6275 - val_accuracy: 0.7600\n",
            "Epoch 7/20\n",
            "20/20 [==============================] - 262s 13s/step - loss: 0.6119 - accuracy: 0.7436 - val_loss: 0.6305 - val_accuracy: 0.7600\n",
            "Epoch 8/20\n",
            "20/20 [==============================] - 261s 13s/step - loss: 0.5958 - accuracy: 0.7308 - val_loss: 0.5204 - val_accuracy: 0.8300\n",
            "Epoch 9/20\n",
            "20/20 [==============================] - 260s 13s/step - loss: 0.5231 - accuracy: 0.7897 - val_loss: 0.4884 - val_accuracy: 0.8100\n",
            "Epoch 10/20\n",
            "20/20 [==============================] - 290s 15s/step - loss: 0.5536 - accuracy: 0.7795 - val_loss: 0.5007 - val_accuracy: 0.7600\n",
            "Epoch 11/20\n",
            "20/20 [==============================] - 262s 13s/step - loss: 0.4948 - accuracy: 0.7974 - val_loss: 0.5697 - val_accuracy: 0.7300\n",
            "Epoch 12/20\n",
            "20/20 [==============================] - 262s 13s/step - loss: 0.5348 - accuracy: 0.7795 - val_loss: 0.4446 - val_accuracy: 0.8600\n",
            "Epoch 13/20\n",
            "20/20 [==============================] - 262s 13s/step - loss: 0.5012 - accuracy: 0.7718 - val_loss: 0.4488 - val_accuracy: 0.8200\n",
            "Epoch 14/20\n",
            "20/20 [==============================] - 260s 13s/step - loss: 0.5372 - accuracy: 0.7513 - val_loss: 0.5514 - val_accuracy: 0.7300\n",
            "Epoch 15/20\n",
            "20/20 [==============================] - 290s 15s/step - loss: 0.5249 - accuracy: 0.7590 - val_loss: 0.5128 - val_accuracy: 0.8200\n",
            "Epoch 16/20\n",
            "20/20 [==============================] - 262s 13s/step - loss: 0.4537 - accuracy: 0.8051 - val_loss: 0.4928 - val_accuracy: 0.7500\n",
            "Epoch 17/20\n",
            "20/20 [==============================] - 262s 13s/step - loss: 0.5832 - accuracy: 0.7359 - val_loss: 0.5274 - val_accuracy: 0.8100\n",
            "Epoch 18/20\n",
            "20/20 [==============================] - 261s 13s/step - loss: 0.5044 - accuracy: 0.7974 - val_loss: 0.4949 - val_accuracy: 0.8000\n",
            "Epoch 19/20\n",
            "20/20 [==============================] - 266s 13s/step - loss: 0.4869 - accuracy: 0.8205 - val_loss: 0.5015 - val_accuracy: 0.7800\n",
            "Epoch 20/20\n",
            "20/20 [==============================] - 263s 13s/step - loss: 0.4544 - accuracy: 0.8051 - val_loss: 0.4494 - val_accuracy: 0.8700\n"
          ]
        }
      ],
      "source": [
        "hist = model.fit(train, \n",
        "\t\t\t\tsteps_per_epoch = steps_size_train,  \n",
        "\t\t\t\tepochs = 20, \n",
        "\t\t\t\tvalidation_data = val, \n",
        "\t\t\t\tvalidation_steps = steps_size_val)"
      ]
    },
    {
      "cell_type": "code",
      "execution_count": 11,
      "metadata": {
        "colab": {
          "base_uri": "https://localhost:8080/",
          "height": 545
        },
        "id": "m_v-HYJ1vDfQ",
        "outputId": "39ba6d71-1f91-4228-c422-1a803ebe587a"
      },
      "outputs": [
        {
          "output_type": "display_data",
          "data": {
            "text/plain": [
              "<Figure size 432x288 with 1 Axes>"
            ],
            "image/png": "[encoded data removed]"
          },
          "metadata": {
            "needs_background": "light"
          }
        },
        {
          "output_type": "display_data",
          "data": {
            "text/plain": [
              "<Figure size 432x288 with 1 Axes>"
            ],
            "image/png": "[encoded data removed]"
          },
          "metadata": {
            "needs_background": "light"
          }
        }
      ],
      "source": [
        "acc = hist.history['accuracy']\n",
        "val_acc = hist.history['val_accuracy']\n",
        "loss = hist.history['loss']\n",
        "val_loss = hist.history['val_loss']\n",
        "\n",
        "epochs = range(1, len(acc)+1)\n",
        "\n",
        "plt.plot(epochs,acc,'bo',label='train accuracy')\n",
        "plt.plot(epochs,val_acc, 'b', label='validation accuracy')\n",
        "plt.title('train acc vs val acc')\n",
        "plt.legend()\n",
        "\n",
        "plt.figure()\n",
        "\n",
        "plt.plot(epochs,loss, 'bo', label ='training loss')\n",
        "plt.plot(epochs,val_loss, 'b', label = 'validation loss')\n",
        "plt.title('train loss vs val loss')\n",
        "plt.legend()\n",
        "\n",
        "plt.show()"
      ]
    },
    {
      "cell_type": "code",
      "execution_count": 12,
      "metadata": {
        "colab": {
          "base_uri": "https://localhost:8080/"
        },
        "id": "CkkSgCdS9mvl",
        "outputId": "d89b66f2-9092-4955-ebc9-c4cf52731e71"
      },
      "outputs": [
        {
          "output_type": "stream",
          "name": "stdout",
          "text": [
            "Found 50 images belonging to 3 classes.\n"
          ]
        }
      ],
      "source": [
        "test_gen = ImageDataGenerator(1./255)\n",
        "\n",
        "testset = test_gen.flow_from_directory(\n",
        "\t\t\t\t\ttest,\n",
        "\t\t\t\t\ttarget_size = (224, 224),\n",
        "\t\t\t\t\tbatch_size = 20,\n",
        "          class_mode ='categorical')\n",
        "\n",
        "steps_size_test = testset.n//testset.batch_size"
      ]
    },
    {
      "cell_type": "code",
      "execution_count": 13,
      "metadata": {
        "id": "NgQK68CH-YK5",
        "colab": {
          "base_uri": "https://localhost:8080/"
        },
        "outputId": "f025ccfd-d302-4843-a6ce-d83e159c6965"
      },
      "outputs": [
        {
          "output_type": "stream",
          "name": "stderr",
          "text": [
            "/usr/local/lib/python3.7/dist-packages/keras/preprocessing/image.py:1663: UserWarning: This ImageDataGenerator specifies `featurewise_center`, but it hasn't been fit on any training data. Fit it first by calling `.fit(numpy_data)`.\n",
            "  warnings.warn('This ImageDataGenerator specifies '\n"
          ]
        },
        {
          "output_type": "stream",
          "name": "stdout",
          "text": [
            "2/2 [==============================] - 24s 13s/step - loss: 1.7452 - accuracy: 0.9750\n",
            "\n",
            "test acc :\n",
            " 0.9750000238418579\n"
          ]
        }
      ],
      "source": [
        "test_loss, test_acc = model.evaluate(testset, steps = steps_size_test)\n",
        "print('\\ntest acc :\\n', test_acc)"
      ]
    },
    {
      "cell_type": "code",
      "source": [
        "model.save('DogBreeds.h5')"
      ],
      "metadata": {
        "id": "LjalKOVaJ5IN"
      },
      "execution_count": 15,
      "outputs": []
    }
  ],
  "metadata": {
    "accelerator": "GPU",
    "colab": {
      "provenance": []
    },
    "gpuClass": "standard",
    "kernelspec": {
      "display_name": "Python 3.10.8 64-bit (microsoft store)",
      "language": "python",
      "name": "python3"
    },
    "language_info": {
      "codemirror_mode": {
        "name": "ipython",
        "version": 3
      },
      "file_extension": ".py",
      "mimetype": "text/x-python",
      "name": "python",
      "nbconvert_exporter": "python",
      "pygments_lexer": "ipython3",
      "version": "3.10.8"
    },
    "vscode": {
      "interpreter": {
        "hash": "f58006e3a6b3697db5a2671151387509a500f2e72d8fe07fc4154091e95c0813"
      }
    }
  },
  "nbformat": 4,
  "nbformat_minor": 0
}